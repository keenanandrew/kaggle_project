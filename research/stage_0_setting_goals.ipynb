{
 "cells": [
  {
   "cell_type": "code",
   "execution_count": null,
   "metadata": {},
   "outputs": [],
   "source": [
    "# What do I want to achieve?\n",
    "# A pipeline, like the Naik one, that brings in a data source, transforms it, etc, then creates a model.\n",
    "\n",
    "# What data?\n",
    "\n",
    "# Something simple from kaggle, that doesn't have class imbalance.\n",
    "# Or where the class imbalance is addressed early on.\n",
    "\n"
   ]
  }
 ],
 "metadata": {
  "language_info": {
   "name": "python"
  }
 },
 "nbformat": 4,
 "nbformat_minor": 2
}
